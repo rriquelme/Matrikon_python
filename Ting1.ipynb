{
 "cells": [
  {
   "cell_type": "code",
   "execution_count": 1,
   "metadata": {},
   "outputs": [
    {
     "name": "stdout",
     "output_type": "stream",
     "text": [
      "['opcserversim.Instance.1', 'Matrikon.OPC.Simulation.1']\n"
     ]
    }
   ],
   "source": [
    "import OpenOPC\n",
    "import pywintypes\n",
    "pywintypes.datetime = pywintypes.TimeType\n",
    "\n",
    "opc = OpenOPC.client()\n",
    "print(opc.servers())"
   ]
  },
  {
   "cell_type": "code",
   "execution_count": 2,
   "metadata": {},
   "outputs": [
    {
     "name": "stdout",
     "output_type": "stream",
     "text": [
      "[('Protocol', 'DCOM'), ('Class', 'Graybox.OPC.DAWrapper'), ('Client Name', 'OpenOPC'), ('OPC Host', 'DESKTOP-VU53SU0'), ('OPC Server', 'Matrikon.OPC.Simulation.1'), ('State', 'Running'), ('Version', '1.9 (Build 8629)'), ('Browser', 'Hierarchical'), ('Start Time', '2023-04-12 18:46:56.455000+00:00'), ('Current Time', '2023-04-12 19:18:40.366000+00:00'), ('Vendor', 'Matrikon Inc +1-780-945-4011 http://www.matrikonopc.com')]\n",
      "['Simulation Items', 'Configured Aliases']\n"
     ]
    }
   ],
   "source": [
    "opc.connect('Matrikon.OPC.Simulation.1')\n",
    "print(opc.info())\n",
    "print(opc.list())"
   ]
  },
  {
   "cell_type": "code",
   "execution_count": 3,
   "metadata": {},
   "outputs": [
    {
     "data": {
      "text/plain": [
       "['g1']"
      ]
     },
     "execution_count": 3,
     "metadata": {},
     "output_type": "execute_result"
    }
   ],
   "source": [
    "opc.list('Configured Aliases')"
   ]
  },
  {
   "cell_type": "code",
   "execution_count": 4,
   "metadata": {},
   "outputs": [
    {
     "data": {
      "text/plain": [
       "['g1.app']"
      ]
     },
     "execution_count": 4,
     "metadata": {},
     "output_type": "execute_result"
    }
   ],
   "source": [
    "opc.list('Configured Aliases.g1.*')"
   ]
  },
  {
   "cell_type": "code",
   "execution_count": 6,
   "metadata": {},
   "outputs": [
    {
     "name": "stdout",
     "output_type": "stream",
     "text": [
      "[(0, 'Item ID (virtual property)', 'g1.app'), (1, 'Item Canonical DataType', 2), (2, 'Item Value', 10), (3, 'Item Quality', 'Good'), (4, 'Item Timestamp', '2023-04-12 19:09:37+00:00'), (5, 'Item Access Rights', 'Read/Write'), (6, 'Server Scan Rate', 100.0), (7, 'Item EU Type', 0), (8, 'Item EUInfo', None)]\n"
     ]
    }
   ],
   "source": [
    "print(opc.properties('g1.app'))"
   ]
  },
  {
   "cell_type": "code",
   "execution_count": 7,
   "metadata": {},
   "outputs": [
    {
     "data": {
      "text/plain": [
       "[(0, 'Item ID (virtual property)', '.Apertura'),\n",
       " (1, 'Item Canonical DataType', 2),\n",
       " (2, 'Item Value', 50),\n",
       " (3, 'Item Quality', 'Good'),\n",
       " (4, 'Item Timestamp', '2023-04-12 18:53:13+00:00'),\n",
       " (5, 'Item Access Rights', 'Read/Write'),\n",
       " (6, 'Server Scan Rate', 100.0),\n",
       " (7, 'Item EU Type', 0),\n",
       " (8, 'Item EUInfo', None)]"
      ]
     },
     "execution_count": 7,
     "metadata": {},
     "output_type": "execute_result"
    }
   ],
   "source": [
    "opc.properties('.Apertura')"
   ]
  },
  {
   "cell_type": "code",
   "execution_count": 9,
   "metadata": {},
   "outputs": [
    {
     "ename": "",
     "evalue": "",
     "output_type": "error",
     "traceback": [
      "\u001b[1;31mCanceled future for execute_request message before replies were done"
     ]
    },
    {
     "ename": "",
     "evalue": "",
     "output_type": "error",
     "traceback": [
      "\u001b[1;31mThe Kernel crashed while executing code in the the current cell or a previous cell. Please review the code in the cell(s) to identify a possible cause of the failure. Click <a href='https://aka.ms/vscodeJupyterKernelCrash'>here</a> for more info. View Jupyter <a href='command:jupyter.viewOutput'>log</a> for further details."
     ]
    }
   ],
   "source": [
    "#opc['.Apertura']"
   ]
  },
  {
   "cell_type": "code",
   "execution_count": 1,
   "metadata": {},
   "outputs": [
    {
     "ename": "NameError",
     "evalue": "name 'OpenOPC' is not defined",
     "output_type": "error",
     "traceback": [
      "\u001b[1;31m---------------------------------------------------------------------------\u001b[0m",
      "\u001b[1;31mNameError\u001b[0m                                 Traceback (most recent call last)",
      "Cell \u001b[1;32mIn[1], line 1\u001b[0m\n\u001b[1;32m----> 1\u001b[0m help(OpenOPC)\n",
      "\u001b[1;31mNameError\u001b[0m: name 'OpenOPC' is not defined"
     ]
    }
   ],
   "source": [
    "help(OpenOPC)"
   ]
  },
  {
   "cell_type": "code",
   "execution_count": null,
   "metadata": {},
   "outputs": [],
   "source": []
  }
 ],
 "metadata": {
  "kernelspec": {
   "display_name": "Python 3",
   "language": "python",
   "name": "python3"
  },
  "language_info": {
   "codemirror_mode": {
    "name": "ipython",
    "version": 3
   },
   "file_extension": ".py",
   "mimetype": "text/x-python",
   "name": "python",
   "nbconvert_exporter": "python",
   "pygments_lexer": "ipython3",
   "version": "3.9.13"
  },
  "orig_nbformat": 4
 },
 "nbformat": 4,
 "nbformat_minor": 2
}
